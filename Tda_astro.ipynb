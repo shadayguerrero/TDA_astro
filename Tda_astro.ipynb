{
 "cells": [
  {
   "cell_type": "code",
   "execution_count": null,
   "id": "17e95445",
   "metadata": {},
   "outputs": [],
   "source": [
    "import numpy as np\n",
    "import pandas as pd\n",
    "import seaborn as sns\n",
    "import matplotlib.pyplot as plt\n",
    "from scipy.cluster.hierarchy import dendrogram, linkage\n",
    "import gudhi as gd\n",
    "from scipy.spatial.distance import hamming, pdist, squareform\n",
    "import kaleido\n",
    "import plotly.graph_objs as go\n",
    "import networkx as nx\n",
    "import plotly.graph_objects as go\n",
    "import plotly.io as pio\n",
    "from scipy import sparse\n",
    "\n",
    "plt.rcParams['font.sans-serif'] = ['Liberation Sans']"
   ]
  },
  {
   "cell_type": "code",
   "execution_count": null,
   "id": "b0d412b0",
   "metadata": {},
   "outputs": [],
   "source": [
    "\n",
    "\n",
    "def visualize_simplicial_complex(simplex_tree, filtration_value, vertex_names=None, save_filename=None, plot_size=1, dpi=600):\n",
    "    G = nx.Graph()\n",
    "    triangles = []\n",
    "    color_map = plt.get_cmap('coolwarm')\n",
    "\n",
    "    # Create a dictionary to map simplices to colors based on their filtration values\n",
    "    simplex_colors = {}\n",
    "    max_filtration = max(filt for _, filt in simplex_tree.get_filtration() if filt <= filtration_value)\n",
    "\n",
    "    for simplex, filt in simplex_tree.get_filtration():\n",
    "        if filt <= filtration_value:\n",
    "            # Normalize the filtration value and get the corresponding color\n",
    "            normalized_value = filt / max_filtration\n",
    "            color = color_map(normalized_value)\n",
    "            rgba_color = 'rgba({}, {}, {}, {})'.format(int(color[0]*255), int(color[1]*255), int(color[2]*255), color[3])\n",
    "            simplex_colors[tuple(simplex)] = rgba_color\n",
    "\n",
    "            # Add nodes and edges/triangles to the graph\n",
    "            if len(simplex) == 2:\n",
    "                G.add_edge(simplex[0], simplex[1])\n",
    "            elif len(simplex) == 1:\n",
    "                G.add_node(simplex[0])\n",
    "            elif len(simplex) == 3:\n",
    "                triangles.append(simplex)\n",
    "\n",
    "    # Position nodes using NetworkX's spring layout\n",
    "    pos = nx.spring_layout(G)\n",
    "\n",
    "    # Node trace\n",
    "    x_values = [pos[key][0] for key in pos]\n",
    "    y_values = [pos[key][1] for key in pos]\n",
    "    node_labels = [vertex_names[node] if vertex_names else node for node in pos]\n",
    "    #node_trace = go.Scatter(x=x_values, y=y_values, mode='markers+text', hoverinfo=\"text\", marker=dict(size=10), text=node_labels, textposition='top center')\n",
    "    node_trace = go.Scatter(x=x_values, y=y_values, mode='markers+text', hoverinfo=\"text\",marker=dict(size=14), text=node_labels, textposition='top center', textfont=dict(size=14))\n",
    "\n",
    "    \n",
    "    # Edge traces\n",
    "    edge_traces = []\n",
    "    for edge in G.edges():\n",
    "        x0, y0 = pos[edge[0]]\n",
    "        x1, y1 = pos[edge[1]]\n",
    "        color = simplex_colors.get(edge, 'rgba(0, 0, 0, 0.5)')  # Default color if edge not in simplex_colors\n",
    "        edge_trace = go.Scatter(x=[x0, x1, None], y=[y0, y1, None], mode='lines', line=dict(width=3, color=color))\n",
    "        edge_traces.append(edge_trace)\n",
    "\n",
    "        # Triangle traces\n",
    "    triangle_traces = []\n",
    "    for triangle in triangles:\n",
    "        x0, y0 = pos[triangle[0]]\n",
    "        x1, y1 = pos[triangle[1]]\n",
    "        x2, y2 = pos[triangle[2]]\n",
    "    # Utilizando el nuevo color RGBA para los triángulos\n",
    "        color = 'rgba(244, 157, 126, 0.545)'  # Color #F49D7E en formato RGBA\n",
    "        triangle_trace = go.Scatter(x=[x0, x1, x2, x0, None], y=[y0, y1, y2, y0, None], fill='toself', mode='lines', line=dict(width=3), fillcolor=color)\n",
    "        triangle_traces.append(triangle_trace)\n",
    "\n",
    "    # Combine all traces and create the figure\n",
    "\n",
    "    layout = go.Layout(showlegend=False, hovermode='closest', xaxis=dict(showgrid=False, zeroline=False,tickfont=dict(size=16, family='Arial, sans-serif') ), yaxis=dict(showgrid=False, zeroline=False,tickfont=dict(size=16, family='Arial, sans-serif')))\n",
    "\n",
    "    fig = go.Figure(data=edge_traces + triangle_traces + [node_trace], layout=layout)\n",
    "\n",
    "    # Set the figure size\n",
    "    fig.update_layout(width=plot_size * dpi, height=plot_size * dpi)\n",
    "\n",
    "    # Save the figure if a filename is provided\n",
    "    if save_filename:\n",
    "        pio.write_image(fig, save_filename, width=plot_size * dpi, height=plot_size * dpi, scale=1)\n",
    "\n",
    "    # Show the figure\n",
    "    fig.show()\n",
    "\n",
    "    return G"
   ]
  },
  {
   "cell_type": "code",
   "execution_count": null,
   "id": "3a2437f5",
   "metadata": {},
   "outputs": [],
   "source": [
    "def create_complex(distance_matrix):\n",
    "    # Create the Rips simplicial complex from the distance matrix\n",
    "    rips_complex = gd.RipsComplex(distance_matrix=distance_matrix)\n",
    "    # Create the simplex tree from the Rips complex with a maximum dimension of 3\n",
    "    simplex_tree = rips_complex.create_simplex_tree(max_dimension=3)\n",
    "    # Compute the persistence of the simplicial complex\n",
    "    persistence = simplex_tree.persistence()\n",
    "    # Return the persistence diagram or barcode\n",
    "    return persistence, simplex_tree\n",
    "#### Function for visualization\n",
    "def plot_dendrogram(data):\n",
    "    \"\"\"Plot a dendrogram from the data.\"\"\"\n",
    "    linked = linkage(data, 'single')\n",
    "    dendrogram(linked, orientation='top', distance_sort='descending')\n",
    "    plt.show()"
   ]
  },
  {
   "cell_type": "code",
   "execution_count": null,
   "id": "88d27464",
   "metadata": {},
   "outputs": [],
   "source": [
    "# Let's assume that \"population\" is a numpy ndarray with your genomes as rows.\n",
    "def calculate_hamming_matrix(population):\n",
    "    # Number of genomes\n",
    "    num_genomes = population.shape[0]\n",
    "    # Create an empty matrix for Hamming distances\n",
    "    hamming_matrix = np.zeros((num_genomes, num_genomes), dtype=int)\n",
    "   # Calculate the Hamming distance between each pair of genomes\n",
    "    for i in range(num_genomes):\n",
    "        for j in range(i+1, num_genomes):  # j=i+1 to avoid calculating the same distance twice\n",
    "            # The Hamming distance is multiplied by the number of genes to convert it into an absolute distance\n",
    "            distance = hamming(population[i], population[j]) * len(population[i])\n",
    "            hamming_matrix[i, j] = distance\n",
    "            hamming_matrix[j, i] = distance  # The matrix is symmetric\n",
    "    \n",
    "    return hamming_matrix\n",
    "# Assuming that \"population\" is a NumPy ndarray with your genomes as rows\n",
    "def calculate_normalized_hamming_matrix(population):\n",
    "    num_genomes = population.shape[0]\n",
    "    num_genes = population.shape[1]\n",
    "    hamming_matrix = np.zeros((num_genomes, num_genomes), dtype=float)\n",
    "    \n",
    "    for i in range(num_genomes):\n",
    "        for j in range(i+1, num_genomes):  # It's not necessary to calculate when i == j\n",
    "            # The sum of boolean comparisons will give the total number of differences\n",
    "            distance = np.sum(population[i] != population[j]) / num_genes\n",
    "            hamming_matrix[i, j] = distance\n",
    "            hamming_matrix[j, i] = distance  # Taking advantage of symmetry\n",
    "    \n",
    "    return hamming_matrix\n"
   ]
  },
  {
   "cell_type": "code",
   "execution_count": null,
   "id": "29252dc7",
   "metadata": {},
   "outputs": [],
   "source": [
    "def plot_barcodes(intervals, color, ax):\n",
    "    for idx, (start, end) in enumerate(intervals):\n",
    "        ax.plot([start, end], [idx, idx], color=color, lw=5)\n",
    "def plot_intervals_esc(bacteria, save_path=None):\n",
    "    fig, ax = plt.subplots(figsize=(10, 10))\n",
    "\n",
    "    # Grafica los códigos de barras\n",
    "    #plot_barcodes(bacteria, '#F34E81', ax)\n",
    "    plot_barcodes(bacteria, '#274E13', ax)\n",
    "\n",
    "    # Remueve las etiquetas del eje y\n",
    "    ax.get_yaxis().set_ticks([])\n",
    "\n",
    "    # Añade leyendas\n",
    "    #bacteria_legend = mlines.Line2D([], [], color='#F34E81', label='$Klebsiella$ $P.$ ')\n",
    "    bacteria_legend = mlines.Line2D([], [], color='#274E13', label='$Escherichia$ $C.$')\n",
    "    ax.legend(handles=[bacteria_legend],fontsize=16)\n",
    "\n",
    "#     ax.set_title(r'H1 Persistence Barcode', fontsize=20)\n",
    "#     ax.set_xlabel('Persistence Interval', fontsize=14)\n",
    "    plt.xticks(fontsize=16)  # Ajusta el tamaño según sea necesario\n",
    "    plt.yticks(fontsize=16)\n",
    "    plt.tight_layout()\n",
    "    \n",
    "    if save_path:\n",
    "        plt.savefig(save_path, dpi=600, bbox_inches='tight')\n",
    "    else:\n",
    "        plt.show()"
   ]
  },
  {
   "cell_type": "code",
   "execution_count": null,
   "id": "4256d104",
   "metadata": {},
   "outputs": [],
   "source": [
    "# link=\"https://raw.githubusercontent.com/shadayguerrero/TDA_Horizontal_Genes_Transfer/main/data/BVBRC_protein_families_all_final.csv\"\n",
    "import pandas as pd\n",
    "\n",
    "df = pd.read_csv(\"sphdata.dat\", sep='\\t', index_col=0)\n",
    "df\n"
   ]
  },
  {
   "cell_type": "code",
   "execution_count": null,
   "id": "445a0ef7",
   "metadata": {},
   "outputs": [],
   "source": [
    "matrix=df.iloc[:,1:4].values\n",
    "\n"
   ]
  },
  {
   "cell_type": "code",
   "execution_count": null,
   "id": "e1c168ed",
   "metadata": {},
   "outputs": [],
   "source": [
    "matrix_distance=pdist(df[['x[cm]','y[cm]','z[cm]']], metric='euclidean')"
   ]
  },
  {
   "cell_type": "code",
   "execution_count": null,
   "id": "68c369a6",
   "metadata": {},
   "outputs": [],
   "source": [
    "np.shape(matrix_distance)[0]"
   ]
  },
  {
   "cell_type": "code",
   "execution_count": null,
   "id": "abe5a156",
   "metadata": {},
   "outputs": [],
   "source": []
  },
  {
   "cell_type": "code",
   "execution_count": null,
   "id": "80a35e45",
   "metadata": {},
   "outputs": [],
   "source": [
    "df[['x[cm]','y[cm]','z[cm]']].iloc[:3]"
   ]
  },
  {
   "cell_type": "code",
   "execution_count": null,
   "id": "ceae878f",
   "metadata": {},
   "outputs": [],
   "source": [
    "minimo=matrix_distance.min()\n",
    "minimo"
   ]
  },
  {
   "cell_type": "code",
   "execution_count": null,
   "id": "4f366626",
   "metadata": {},
   "outputs": [],
   "source": [
    "maximo=matrix_distance.max()\n",
    "maximo"
   ]
  },
  {
   "cell_type": "code",
   "execution_count": null,
   "id": "bb312b1c",
   "metadata": {},
   "outputs": [],
   "source": [
    "promedio=matrix_distance.mean()"
   ]
  },
  {
   "cell_type": "code",
   "execution_count": null,
   "id": "86b5b9f3",
   "metadata": {},
   "outputs": [],
   "source": [
    "point_cloud = df.iloc[:,1:4].values.tolist()\n",
    "point_cloud"
   ]
  },
  {
   "cell_type": "code",
   "execution_count": null,
   "id": "0c2993f8",
   "metadata": {},
   "outputs": [],
   "source": [
    "alpha_complex=gd.AlphaComplex(points=point_cloud)"
   ]
  },
  {
   "cell_type": "code",
   "execution_count": null,
   "id": "85f7e406",
   "metadata": {},
   "outputs": [],
   "source": [
    "\n",
    "\n",
    "# Crear el complejo simplicial filtrado\n",
    "simplex_tree = alpha_complex.create_simplex_tree()\n",
    "\n",
    "# Calcular la homología persistente\n",
    "diag = simplex_tree.persistence()\n",
    "\n",
    "# Mostrar los diagramas de persistencia\n",
    "gd.plot_persistence_diagram(diag)"
   ]
  },
  {
   "cell_type": "code",
   "execution_count": null,
   "id": "c003e892",
   "metadata": {},
   "outputs": [],
   "source": [
    "persistence_dim_0=[p for p in diag if p[0]==0]\n",
    "gd.plot_persistence_barcode(persistence_dim_0)"
   ]
  },
  {
   "cell_type": "code",
   "execution_count": null,
   "id": "93acc3fa",
   "metadata": {},
   "outputs": [],
   "source": [
    "len(persistence_dim_0)"
   ]
  },
  {
   "cell_type": "code",
   "execution_count": null,
   "id": "d1edbc0e",
   "metadata": {},
   "outputs": [],
   "source": [
    "gd.plot_persistence_barcode(persistence_dim_0[-20:])\n"
   ]
  },
  {
   "cell_type": "code",
   "execution_count": null,
   "id": "3ba05cbd",
   "metadata": {},
   "outputs": [],
   "source": [
    "plot_intervals_esc(persistence_dim_0[-20:])"
   ]
  },
  {
   "cell_type": "code",
   "execution_count": null,
   "id": "0450f7d9",
   "metadata": {},
   "outputs": [],
   "source": [
    "# Crear el complejo simplicial a partir de la nube de puntos\n",
    "#rips_complex = gd.RipsComplex(points=point_cloud, max_edge_length=1.0)\n",
    "rips_complex = gd.RipsComplex(distance_matrix=matrix_distance,max_edge_length=promedio)\n",
    "\n",
    "# Crear el complejo simplicial filtrado\n",
    "simplex_tree = rips_complex.create_simplex_tree(max_dimension=2)\n",
    "\n",
    "# Calcular la homología persistente\n",
    "diag = simplex_tree.persistence()\n",
    "\n",
    "# Mostrar los diagramas de persistencia\n",
    "gd.plot_persistence_diagram(diag)"
   ]
  },
  {
   "cell_type": "code",
   "execution_count": null,
   "id": "940cef2f",
   "metadata": {},
   "outputs": [],
   "source": [
    "diag"
   ]
  },
  {
   "cell_type": "code",
   "execution_count": null,
   "id": "af24b2c2",
   "metadata": {},
   "outputs": [],
   "source": [
    "import gudhi\n",
    "from scipy.spatial.distance import cdist\n",
    "points = [[1, 1], [7, 0], [4, 6], [9, 6], [0, 14], [2, 19], [9, 17]]\n",
    "distance_matrix = cdist(points, points)\n",
    "cplx = gudhi.SimplexTree.create_from_array(distance_matrix, max_filtration=12.0)\n",
    "cplx.expansion(2)"
   ]
  },
  {
   "cell_type": "code",
   "execution_count": null,
   "id": "a3b293c8",
   "metadata": {},
   "outputs": [],
   "source": [
    "import pandas as pd\n",
    "import matplotlib.pyplot as plt\n",
    "from mpl_toolkits.mplot3d import Axes3D\n",
    "\n",
    "df2=df.iloc[:,1:4]\n",
    "\n",
    "# Crear una figura 3D\n",
    "fig = plt.figure()\n",
    "ax = fig.add_subplot(111, projection='3d')\n",
    "\n",
    "# Agregar los puntos al gráfico\n",
    "ax.scatter(df['x[cm]'], df['y[cm]'], df['z[cm]'])\n",
    "\n",
    "# Etiquetas de los ejes\n",
    "ax.set_xlabel('X')\n",
    "ax.set_ylabel('Y')\n",
    "ax.set_zlabel('Z')\n",
    "\n",
    "# Título del gráfico\n",
    "ax.set_title('Nube de Puntos en 3D')\n",
    "\n",
    "# Mostrar el gráfico\n",
    "plt.show()\n"
   ]
  },
  {
   "cell_type": "code",
   "execution_count": null,
   "id": "fee19909",
   "metadata": {},
   "outputs": [],
   "source": [
    "df_filtered = df[df['rho[cm-3]'] > 1000]\n",
    "df_filtered"
   ]
  },
  {
   "cell_type": "code",
   "execution_count": null,
   "id": "5bef81d8",
   "metadata": {},
   "outputs": [],
   "source": [
    "df_filtered2 = df[df['h[cm]'] > 10000]\n",
    "df_filtered2"
   ]
  },
  {
   "cell_type": "code",
   "execution_count": null,
   "id": "010100d6",
   "metadata": {},
   "outputs": [],
   "source": [
    "import plotly.express as px\n",
    "\n",
    "# Asumiendo que 'df' es tu DataFrame y ya contiene las columnas 'x[cm]', 'y[cm]', 'z[cm]', y 'rho[cm-3]'\n",
    "\n",
    "fig = px.scatter_3d(df, x='x[cm]', y='y[cm]', z='z[cm]', color='rho[cm-3]',\n",
    "                    color_continuous_scale=px.colors.sequential.Viridis)\n",
    "\n",
    "# Actualizar los títulos de los ejes\n",
    "fig.update_layout(scene=dict(\n",
    "                    xaxis_title='X[cm]',\n",
    "                    yaxis_title='Y[cm]',\n",
    "                    zaxis_title='Z[cm]'),\n",
    "                  title='Nube de Puntos en 3D con Colores por Densidad')\n",
    "\n",
    "# Mostrar el gráfico\n",
    "fig.show()\n"
   ]
  }
 ],
 "metadata": {
  "kernelspec": {
   "display_name": "TDA",
   "language": "python",
   "name": "tda"
  },
  "language_info": {
   "codemirror_mode": {
    "name": "ipython",
    "version": 3
   },
   "file_extension": ".py",
   "mimetype": "text/x-python",
   "name": "python",
   "nbconvert_exporter": "python",
   "pygments_lexer": "ipython3",
   "version": "3.7.12"
  }
 },
 "nbformat": 4,
 "nbformat_minor": 5
}
